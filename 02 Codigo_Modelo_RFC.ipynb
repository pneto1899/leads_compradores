{
 "cells": [
  {
   "cell_type": "markdown",
   "id": "42060c1c",
   "metadata": {},
   "source": [
    "### Código do Modelo Random Forest Classifier"
   ]
  },
  {
   "cell_type": "code",
   "execution_count": 1,
   "id": "05a91c82",
   "metadata": {},
   "outputs": [],
   "source": [
    "import pandas as pd\n",
    "import psycopg2\n",
    "import numpy as np\n",
    "import seaborn as sns\n",
    "import matplotlib.pyplot as plt\n",
    "\n",
    "import warnings\n",
    "warnings.filterwarnings('ignore')"
   ]
  },
  {
   "cell_type": "code",
   "execution_count": 2,
   "id": "4e8f9d6c",
   "metadata": {},
   "outputs": [],
   "source": [
    "#conectando ao banco de dados\n",
    "conn = psycopg2.connect(dbname=\"dfo2vqe9hs2knm\", \n",
    "                        user=\"zgbodaynfjorzt\",\n",
    "                        password=\"d2b11c0c6039df67f39d22f680fb92a843a1b652e3d5b692f6670c0a2abc2804\", \n",
    "                        host='ec2-3-222-74-92.compute-1.amazonaws.com', \n",
    "                        port='5432')"
   ]
  },
  {
   "cell_type": "code",
   "execution_count": 3,
   "id": "07aab44d",
   "metadata": {},
   "outputs": [],
   "source": [
    "sql1 = \"select * from forms\"\n",
    "sql2 = \"select * from order_items\"\n",
    "sql3 = \"select * from orders\""
   ]
  },
  {
   "cell_type": "code",
   "execution_count": 4,
   "id": "8b98c8d2",
   "metadata": {},
   "outputs": [],
   "source": [
    "data1 = pd.read_sql_query(sql1, conn)\n",
    "data2 = pd.read_sql_query(sql2, conn)\n",
    "data3 = pd.read_sql_query(sql3, conn)\n",
    "conn = None"
   ]
  },
  {
   "cell_type": "code",
   "execution_count": 5,
   "id": "38e26af0",
   "metadata": {},
   "outputs": [
    {
     "data": {
      "text/html": [
       "<div>\n",
       "<style scoped>\n",
       "    .dataframe tbody tr th:only-of-type {\n",
       "        vertical-align: middle;\n",
       "    }\n",
       "\n",
       "    .dataframe tbody tr th {\n",
       "        vertical-align: top;\n",
       "    }\n",
       "\n",
       "    .dataframe thead th {\n",
       "        text-align: right;\n",
       "    }\n",
       "</style>\n",
       "<table border=\"1\" class=\"dataframe\">\n",
       "  <thead>\n",
       "    <tr style=\"text-align: right;\">\n",
       "      <th></th>\n",
       "      <th>id_form</th>\n",
       "      <th>id_cliente</th>\n",
       "      <th>data</th>\n",
       "      <th>sistema_operacional</th>\n",
       "      <th>navegador</th>\n",
       "      <th>localizacao</th>\n",
       "      <th>locale</th>\n",
       "      <th>cidade</th>\n",
       "      <th>estado</th>\n",
       "      <th>qtde_lavagem_semana</th>\n",
       "      <th>...</th>\n",
       "      <th>tipo_fios</th>\n",
       "      <th>procedimentos</th>\n",
       "      <th>tempo_procedimento</th>\n",
       "      <th>dieta</th>\n",
       "      <th>atividade_fisica</th>\n",
       "      <th>frequencia_estresse</th>\n",
       "      <th>caracteristica</th>\n",
       "      <th>faixa_etaria</th>\n",
       "      <th>efeitos_desejados</th>\n",
       "      <th>fragancia</th>\n",
       "    </tr>\n",
       "  </thead>\n",
       "  <tbody>\n",
       "    <tr>\n",
       "      <th>0</th>\n",
       "      <td>c7d453c9c01223a42968d9fe136047</td>\n",
       "      <td>d2620a3e6f00a6dc6e88</td>\n",
       "      <td>2022-01-03 15:42:22</td>\n",
       "      <td>iOS</td>\n",
       "      <td>Safari</td>\n",
       "      <td>São Paulo, Sao Paulo</td>\n",
       "      <td>BR</td>\n",
       "      <td>SÃO PAULO</td>\n",
       "      <td>SAO PAULO</td>\n",
       "      <td>4</td>\n",
       "      <td>...</td>\n",
       "      <td>Pontas duplas</td>\n",
       "      <td>Nenhum</td>\n",
       "      <td>Há 2 semanas</td>\n",
       "      <td>Celíaca</td>\n",
       "      <td>Frequente</td>\n",
       "      <td>Nunca</td>\n",
       "      <td>Característica 1</td>\n",
       "      <td>25 a 34</td>\n",
       "      <td>Efeito 7</td>\n",
       "      <td>Rosas</td>\n",
       "    </tr>\n",
       "    <tr>\n",
       "      <th>1</th>\n",
       "      <td>72830da153824af486be15cd48b3f3</td>\n",
       "      <td>9a48802d8290d19471f3</td>\n",
       "      <td>2022-01-04 08:39:53</td>\n",
       "      <td>Windows</td>\n",
       "      <td>Chrome</td>\n",
       "      <td>Ribeirão Preto, Sao Paulo</td>\n",
       "      <td>BR</td>\n",
       "      <td>RIBEIRÃO PRETO</td>\n",
       "      <td>SAO PAULO</td>\n",
       "      <td>7</td>\n",
       "      <td>...</td>\n",
       "      <td>Perfeitos</td>\n",
       "      <td>Todos acima</td>\n",
       "      <td>Há mais de 1 mês</td>\n",
       "      <td>Nenhuma restrição</td>\n",
       "      <td>Nunca</td>\n",
       "      <td>Nunca</td>\n",
       "      <td>Característica 6</td>\n",
       "      <td>55 a 64</td>\n",
       "      <td>Efeito 1</td>\n",
       "      <td>Eucalipto</td>\n",
       "    </tr>\n",
       "    <tr>\n",
       "      <th>2</th>\n",
       "      <td>d101fc0075dac29db1168cfc61ad44</td>\n",
       "      <td>c3344fad450ee424700d</td>\n",
       "      <td>2022-01-04 19:34:05</td>\n",
       "      <td>Android</td>\n",
       "      <td>Chrome</td>\n",
       "      <td>São Paulo, Sao Paulo</td>\n",
       "      <td>BR</td>\n",
       "      <td>SÃO PAULO</td>\n",
       "      <td>SAO PAULO</td>\n",
       "      <td>2</td>\n",
       "      <td>...</td>\n",
       "      <td>Rebeldes</td>\n",
       "      <td>Todos acima</td>\n",
       "      <td>Há mais de 1 mês</td>\n",
       "      <td>Nenhuma restrição</td>\n",
       "      <td>Raramente</td>\n",
       "      <td>Regularmente</td>\n",
       "      <td>Característica 7</td>\n",
       "      <td>2 a 10</td>\n",
       "      <td>Efeito 7</td>\n",
       "      <td>Rosas</td>\n",
       "    </tr>\n",
       "    <tr>\n",
       "      <th>3</th>\n",
       "      <td>0957fb9d7be36b4d079b6582bb6785</td>\n",
       "      <td>8105e34124e90300d8b5</td>\n",
       "      <td>2022-01-05 18:29:41</td>\n",
       "      <td>Android</td>\n",
       "      <td>Chrome</td>\n",
       "      <td>Manchester, England</td>\n",
       "      <td>BR</td>\n",
       "      <td>MANCHESTER</td>\n",
       "      <td>ENGLAND</td>\n",
       "      <td>5</td>\n",
       "      <td>...</td>\n",
       "      <td>Rebeldes</td>\n",
       "      <td>Todos acima</td>\n",
       "      <td>Há mais de 1 mês</td>\n",
       "      <td>Celíaca</td>\n",
       "      <td>Raramente</td>\n",
       "      <td>Regularmente</td>\n",
       "      <td>Característica 7</td>\n",
       "      <td>25 a 34</td>\n",
       "      <td>Efeito 7</td>\n",
       "      <td>Rosas</td>\n",
       "    </tr>\n",
       "    <tr>\n",
       "      <th>4</th>\n",
       "      <td>ba73bdcc6c063ab08b533eae5505eb</td>\n",
       "      <td>636382f3f545eec3fe97</td>\n",
       "      <td>2022-01-07 11:44:31</td>\n",
       "      <td>Android</td>\n",
       "      <td>Chrome</td>\n",
       "      <td>Tijucas, Santa Catarina</td>\n",
       "      <td>BR</td>\n",
       "      <td>TIJUCAS</td>\n",
       "      <td>SANTA CATARINA</td>\n",
       "      <td>4</td>\n",
       "      <td>...</td>\n",
       "      <td>Rebeldes</td>\n",
       "      <td>Tintura</td>\n",
       "      <td>Há 1 semana</td>\n",
       "      <td>Celíaca</td>\n",
       "      <td>Sempre</td>\n",
       "      <td>Nunca</td>\n",
       "      <td>Característica 10</td>\n",
       "      <td>18 a 24</td>\n",
       "      <td>Efeito 7</td>\n",
       "      <td>Eucalipto</td>\n",
       "    </tr>\n",
       "  </tbody>\n",
       "</table>\n",
       "<p>5 rows × 23 columns</p>\n",
       "</div>"
      ],
      "text/plain": [
       "                          id_form            id_cliente                data  \\\n",
       "0  c7d453c9c01223a42968d9fe136047  d2620a3e6f00a6dc6e88 2022-01-03 15:42:22   \n",
       "1  72830da153824af486be15cd48b3f3  9a48802d8290d19471f3 2022-01-04 08:39:53   \n",
       "2  d101fc0075dac29db1168cfc61ad44  c3344fad450ee424700d 2022-01-04 19:34:05   \n",
       "3  0957fb9d7be36b4d079b6582bb6785  8105e34124e90300d8b5 2022-01-05 18:29:41   \n",
       "4  ba73bdcc6c063ab08b533eae5505eb  636382f3f545eec3fe97 2022-01-07 11:44:31   \n",
       "\n",
       "  sistema_operacional navegador                localizacao locale  \\\n",
       "0                 iOS    Safari       São Paulo, Sao Paulo     BR   \n",
       "1             Windows    Chrome  Ribeirão Preto, Sao Paulo     BR   \n",
       "2             Android    Chrome       São Paulo, Sao Paulo     BR   \n",
       "3             Android    Chrome        Manchester, England     BR   \n",
       "4             Android    Chrome    Tijucas, Santa Catarina     BR   \n",
       "\n",
       "           cidade           estado  qtde_lavagem_semana  ...      tipo_fios  \\\n",
       "0       SÃO PAULO        SAO PAULO                    4  ...  Pontas duplas   \n",
       "1  RIBEIRÃO PRETO        SAO PAULO                    7  ...      Perfeitos   \n",
       "2       SÃO PAULO        SAO PAULO                    2  ...       Rebeldes   \n",
       "3      MANCHESTER          ENGLAND                    5  ...       Rebeldes   \n",
       "4         TIJUCAS   SANTA CATARINA                    4  ...       Rebeldes   \n",
       "\n",
       "  procedimentos tempo_procedimento              dieta atividade_fisica  \\\n",
       "0        Nenhum       Há 2 semanas            Celíaca        Frequente   \n",
       "1   Todos acima   Há mais de 1 mês  Nenhuma restrição            Nunca   \n",
       "2   Todos acima   Há mais de 1 mês  Nenhuma restrição        Raramente   \n",
       "3   Todos acima   Há mais de 1 mês            Celíaca        Raramente   \n",
       "4       Tintura        Há 1 semana            Celíaca           Sempre   \n",
       "\n",
       "  frequencia_estresse     caracteristica faixa_etaria efeitos_desejados  \\\n",
       "0               Nunca   Característica 1      25 a 34          Efeito 7   \n",
       "1               Nunca   Característica 6      55 a 64          Efeito 1   \n",
       "2        Regularmente   Característica 7       2 a 10          Efeito 7   \n",
       "3        Regularmente   Característica 7      25 a 34          Efeito 7   \n",
       "4               Nunca  Característica 10      18 a 24          Efeito 7   \n",
       "\n",
       "   fragancia  \n",
       "0      Rosas  \n",
       "1  Eucalipto  \n",
       "2      Rosas  \n",
       "3      Rosas  \n",
       "4  Eucalipto  \n",
       "\n",
       "[5 rows x 23 columns]"
      ]
     },
     "execution_count": 5,
     "metadata": {},
     "output_type": "execute_result"
    }
   ],
   "source": [
    "data1.head()"
   ]
  },
  {
   "cell_type": "code",
   "execution_count": 6,
   "id": "89ad991a",
   "metadata": {},
   "outputs": [],
   "source": [
    "#limpeza dos dados\n",
    "data1.drop(['localizacao','navegador','utm_source'], axis = 1, inplace = True)"
   ]
  },
  {
   "cell_type": "code",
   "execution_count": 7,
   "id": "af183ed7",
   "metadata": {},
   "outputs": [],
   "source": [
    "data1['cidade'] = data1['cidade'].replace(np.NaN, 0)"
   ]
  },
  {
   "cell_type": "code",
   "execution_count": 8,
   "id": "b37c7fe6",
   "metadata": {},
   "outputs": [],
   "source": [
    "cidade_0  = data1[data1.cidade == 0]\n"
   ]
  },
  {
   "cell_type": "code",
   "execution_count": 9,
   "id": "bec63a2b",
   "metadata": {},
   "outputs": [],
   "source": [
    "data1['estado'] = data1['estado'].replace(' NULL', 0)"
   ]
  },
  {
   "cell_type": "code",
   "execution_count": 10,
   "id": "a331dce9",
   "metadata": {},
   "outputs": [],
   "source": [
    "estado_0 = data1[data1.estado == 0]\n"
   ]
  },
  {
   "cell_type": "code",
   "execution_count": 11,
   "id": "78243b5e",
   "metadata": {},
   "outputs": [],
   "source": [
    "data1 = data1.drop(index = estado_0.index)"
   ]
  },
  {
   "cell_type": "code",
   "execution_count": 12,
   "id": "963a4608",
   "metadata": {},
   "outputs": [],
   "source": [
    "data1['estado'] = data1['estado'].replace(np.NaN, 0)\n",
    "estado_0 = data1[data1.estado == 0]"
   ]
  },
  {
   "cell_type": "code",
   "execution_count": 13,
   "id": "bed5eb17",
   "metadata": {},
   "outputs": [],
   "source": [
    "data1 = data1.drop(index = estado_0.index)"
   ]
  },
  {
   "cell_type": "code",
   "execution_count": 14,
   "id": "755c0dc3",
   "metadata": {},
   "outputs": [],
   "source": [
    "data1.drop(['locale'], axis = 1, inplace = True)"
   ]
  },
  {
   "cell_type": "code",
   "execution_count": 15,
   "id": "a0b7ef3c",
   "metadata": {},
   "outputs": [],
   "source": [
    "#criando uma coluna de dia da semana\n",
    "data1['dia_semana'] = data1['data'].dt.day_name()"
   ]
  },
  {
   "cell_type": "code",
   "execution_count": 16,
   "id": "2bd737a6",
   "metadata": {},
   "outputs": [],
   "source": [
    "#agrupando os estados fora do brasil + Amapa\n",
    "df_tipo_estado = data1.estado.value_counts()\n",
    "colunas_agrupar = []\n",
    "\n",
    "for tipo in df_tipo_estado.index:\n",
    "    if df_tipo_estado[tipo] < 400:\n",
    "        colunas_agrupar.append(tipo)"
   ]
  },
  {
   "cell_type": "code",
   "execution_count": 17,
   "id": "b05fe21b",
   "metadata": {},
   "outputs": [],
   "source": [
    "#dos estados brasileiro, somente Roraima entrou como outros\n",
    "for tipo in colunas_agrupar:\n",
    "    data1.loc[data1['estado']==tipo, 'estado'] = 'Outros'"
   ]
  },
  {
   "cell_type": "code",
   "execution_count": 18,
   "id": "ec2048b6",
   "metadata": {},
   "outputs": [],
   "source": [
    "#apagando os dados nulos de efeitos_desejados\n",
    "data1.dropna(subset = ['efeitos_desejados'], inplace = True)"
   ]
  },
  {
   "cell_type": "code",
   "execution_count": 19,
   "id": "8216ed3b",
   "metadata": {},
   "outputs": [],
   "source": [
    "#avaliar a quantidade de efeitos_desejados\n",
    "data1['num_efeitos_desejados'] = data1.efeitos_desejados.str.split(',').apply(len)"
   ]
  },
  {
   "cell_type": "code",
   "execution_count": 20,
   "id": "dd2a69b6",
   "metadata": {},
   "outputs": [],
   "source": [
    "# repetindo o processo para numero_caracteristica e numero_procedimentos\n",
    "data1['num_caracteristica'] = data1.caracteristica.str.split(',').apply(len)\n",
    "data1['num_procedimentos'] = data1.procedimentos.str.split(',').apply(len)"
   ]
  },
  {
   "cell_type": "code",
   "execution_count": 21,
   "id": "e6683140",
   "metadata": {},
   "outputs": [],
   "source": [
    "#apagando as colunas 'efeitos_desejados','caracteristica','procedimentos'\n",
    "data1 = data1.drop(['efeitos_desejados','caracteristica','procedimentos'], axis = 1)"
   ]
  },
  {
   "cell_type": "markdown",
   "id": "0494568f",
   "metadata": {},
   "source": [
    "### Combinando os DF"
   ]
  },
  {
   "cell_type": "code",
   "execution_count": 22,
   "id": "0c4072cb",
   "metadata": {},
   "outputs": [],
   "source": [
    "#criando uma coluna target no DF de fechamento das compras\n",
    "data3['target'] = 1"
   ]
  },
  {
   "cell_type": "code",
   "execution_count": 23,
   "id": "1cf79cd7",
   "metadata": {},
   "outputs": [],
   "source": [
    "#preparando o data2 - criar um data4 para fazer a combinação\n",
    "data4 = data2.drop(['id','id_produto','qtde','valor'], axis = 1)"
   ]
  },
  {
   "cell_type": "code",
   "execution_count": 24,
   "id": "8e84c4e3",
   "metadata": {},
   "outputs": [],
   "source": [
    "#id_pedido\n",
    "#data 3 left - parâmetro inner, on id_pedido, \n",
    "data5 = pd.merge(\n",
    "    left = data3,\n",
    "    right = data4,\n",
    "    on = 'id_pedido',    \n",
    ")"
   ]
  },
  {
   "cell_type": "code",
   "execution_count": 25,
   "id": "92e93f33",
   "metadata": {},
   "outputs": [],
   "source": [
    "data6 = data5[['id_form', 'target']]"
   ]
  },
  {
   "cell_type": "code",
   "execution_count": 26,
   "id": "71ebc09a",
   "metadata": {},
   "outputs": [],
   "source": [
    "data7 = pd.merge(\n",
    "    left = data1,\n",
    "    right = data6,\n",
    "    how = 'left',\n",
    "    on = 'id_form'\n",
    "    \n",
    ")"
   ]
  },
  {
   "cell_type": "code",
   "execution_count": 27,
   "id": "90f60b53",
   "metadata": {},
   "outputs": [],
   "source": [
    "data7['target'] = data7['target'].replace(np.NaN, 0)"
   ]
  },
  {
   "cell_type": "code",
   "execution_count": 28,
   "id": "70e47ce8",
   "metadata": {},
   "outputs": [],
   "source": [
    "dados = data7.drop(['id_form', 'id_cliente', 'data', 'cidade'], axis = 1)"
   ]
  },
  {
   "cell_type": "markdown",
   "id": "36dae213",
   "metadata": {},
   "source": [
    "### Pre processamento dos dados"
   ]
  },
  {
   "cell_type": "code",
   "execution_count": 29,
   "id": "f3b0043d",
   "metadata": {},
   "outputs": [],
   "source": [
    "X_cat = dados[['estado', 'tipo_cabelo',\n",
    "       'comprimento', 'tipo_fios', 'tempo_procedimento', 'dieta',\n",
    "       'atividade_fisica', 'frequencia_estresse', 'faixa_etaria', 'fragancia']]\n",
    "#removendo o sistema operacional: não influencia no resultado"
   ]
  },
  {
   "cell_type": "code",
   "execution_count": 30,
   "id": "737f07d5",
   "metadata": {},
   "outputs": [],
   "source": [
    "from sklearn.preprocessing import OneHotEncoder\n",
    "\n",
    "enc = OneHotEncoder(handle_unknown='ignore')\n",
    "\n",
    "enc.fit(X_cat)\n",
    "\n",
    "enc.categories_\n",
    "\n",
    "X_categ = enc.transform(X_cat).toarray()"
   ]
  },
  {
   "cell_type": "code",
   "execution_count": 31,
   "id": "24408a5a",
   "metadata": {},
   "outputs": [],
   "source": [
    "X_encoder = pd.DataFrame(X_categ, columns = enc.get_feature_names_out(X_cat.columns))"
   ]
  },
  {
   "cell_type": "code",
   "execution_count": 32,
   "id": "59154f37",
   "metadata": {},
   "outputs": [],
   "source": [
    "X_numerico = dados[['qtde_lavagem_semana', 'num_efeitos_desejados',\n",
    "       'num_caracteristica','num_procedimentos']]"
   ]
  },
  {
   "cell_type": "code",
   "execution_count": 33,
   "id": "3f37ae0b",
   "metadata": {},
   "outputs": [],
   "source": [
    "X_df = pd.concat([X_encoder, X_numerico], axis = 1)"
   ]
  },
  {
   "cell_type": "code",
   "execution_count": 34,
   "id": "0926ba8c",
   "metadata": {},
   "outputs": [],
   "source": [
    "y = dados.target"
   ]
  },
  {
   "cell_type": "code",
   "execution_count": 35,
   "id": "9b31cde9",
   "metadata": {},
   "outputs": [],
   "source": [
    "#normalizando os dados\n",
    "from sklearn.preprocessing import MinMaxScaler\n",
    "scaler = MinMaxScaler()\n",
    "X = scaler.fit_transform(X_df)"
   ]
  },
  {
   "cell_type": "code",
   "execution_count": 36,
   "id": "1020c13c",
   "metadata": {},
   "outputs": [],
   "source": [
    "from sklearn.model_selection import train_test_split\n",
    "\n",
    "SEED = 42\n",
    "\n",
    "X_train, X_test, y_train, y_test = train_test_split(X, y, test_size=0.30, stratify=y, random_state = SEED)"
   ]
  },
  {
   "cell_type": "code",
   "execution_count": 38,
   "id": "ae4ce415",
   "metadata": {},
   "outputs": [],
   "source": [
    "#importando as métricas\n",
    "from sklearn import metrics\n",
    "from sklearn.metrics import precision_score, recall_score, f1_score, classification_report\n",
    "#importando a matriz de confusão\n",
    "import matplotlib.pyplot as plt\n",
    "from sklearn.metrics import plot_confusion_matrix\n",
    "#importando a Curva ROC e AOC\n",
    "from sklearn.metrics import roc_curve, roc_auc_score"
   ]
  },
  {
   "cell_type": "code",
   "execution_count": 39,
   "id": "ce1169c4",
   "metadata": {},
   "outputs": [
    {
     "name": "stdout",
     "output_type": "stream",
     "text": [
      "Acurácia: 0.918\n",
      "Precisão: 0.869\n",
      "Recall: 0.911\n",
      "F1: 0.912\n",
      "------------------------------------------------------------------------------------------------------------------------\n"
     ]
    },
    {
     "data": {
      "image/png": "[encoded data removed]",
      "text/plain": [
       "<Figure size 432x288 with 2 Axes>"
      ]
     },
     "metadata": {
      "needs_background": "light"
     },
     "output_type": "display_data"
    },
    {
     "name": "stdout",
     "output_type": "stream",
     "text": [
      "roc_auc: 0.953\n"
     ]
    },
    {
     "data": {
      "image/png": "[encoded data removed]",
      "text/plain": [
       "<Figure size 360x360 with 1 Axes>"
      ]
     },
     "metadata": {
      "needs_background": "light"
     },
     "output_type": "display_data"
    },
    {
     "name": "stdout",
     "output_type": "stream",
     "text": [
      "              precision    recall  f1-score   support\n",
      "\n",
      "         0.0       0.95      0.92      0.94    109222\n",
      "         1.0       0.87      0.91      0.89     61823\n",
      "\n",
      "    accuracy                           0.92    171045\n",
      "   macro avg       0.91      0.92      0.91    171045\n",
      "weighted avg       0.92      0.92      0.92    171045\n",
      "\n"
     ]
    }
   ],
   "source": [
    "from sklearn.ensemble import RandomForestClassifier\n",
    "\n",
    "model1 = RandomForestClassifier()\n",
    "\n",
    "model1.fit(X_train, y_train)\n",
    "\n",
    "y_pred = model1.predict(X_test)\n",
    "\n",
    "print(\"Acurácia: {:.3}\".format(metrics.accuracy_score(y_test, y_pred)))\n",
    "print(\"Precisão: {:.3}\".format(metrics.precision_score(y_test, y_pred)))\n",
    "print(\"Recall: {:.3}\".format(metrics.recall_score(y_test, y_pred))) \n",
    "print(\"F1: {:.3}\".format(metrics.f1_score(y_test, y_pred, average='macro')))\n",
    "print('--'*60)\n",
    "\n",
    "    \n",
    "cm = plot_confusion_matrix(model1, X_test, y_test, cmap='Blues', values_format = '.3g')\n",
    "plt.show()\n",
    "    \n",
    "prob_previsao = model1.predict_proba(X_test)[:,1] #probabilidade do evento ser predito como 0 ou 1 - uma matriz com 2 colunas\n",
    "\n",
    "    #tfp = taxa falsos positivos\n",
    "    #tvp = taxa verdadeiros positivos\n",
    "\n",
    "tfp, tvp, limite = roc_curve(y_test, prob_previsao)\n",
    "print('roc_auc: {:.3}'.format(roc_auc_score(y_test, prob_previsao)))\n",
    "\n",
    "plt.subplots(1, figsize=(5,5))\n",
    "plt.title('Curva ROC')\n",
    "plt.plot(tfp,tvp)\n",
    "plt.xlabel('Especifidade')\n",
    "plt.ylabel('Sensibilidade')\n",
    "plt.plot([0, 1], ls=\"--\", c = 'red') #plotando linha guia pontilhada vermelha\n",
    "plt.plot([0, 0], [1, 0], ls=\"--\", c = 'green'), plt.plot([1, 1], ls=\"--\", c = 'green') #plotando linha guia pontilhada verde\n",
    "plt.show()\n",
    "\n",
    "print(classification_report(y_test, y_pred))"
   ]
  },
  {
   "cell_type": "code",
   "execution_count": 40,
   "id": "21e13c5d",
   "metadata": {},
   "outputs": [
    {
     "data": {
      "image/png": "[encoded data removed]",
      "text/plain": [
       "<Figure size 720x1440 with 1 Axes>"
      ]
     },
     "metadata": {
      "needs_background": "light"
     },
     "output_type": "display_data"
    }
   ],
   "source": [
    "features = X_df.columns\n",
    "importancia = model1.feature_importances_\n",
    "indices = np.argsort(importancia)\n",
    "\n",
    "ax = plt.figure(figsize=(10,20))\n",
    "plt.title('Importância da Feature')\n",
    "plt.barh(range(len(indices)), importancia[indices], color='b', align='center')\n",
    "plt.yticks(range(len(indices)), [features[i] for i in indices])\n",
    "plt.xlabel('Importância relativa')\n",
    "plt.show()"
   ]
  },
  {
   "cell_type": "code",
   "execution_count": 41,
   "id": "bb8de267",
   "metadata": {},
   "outputs": [
    {
     "data": {
      "text/plain": [
       "array([0.91979888, 0.9174837 , 0.92032506, 0.91861791, 0.91736677])"
      ]
     },
     "execution_count": 41,
     "metadata": {},
     "output_type": "execute_result"
    }
   ],
   "source": [
    "#cross validate do modelo\n",
    "\n",
    "from sklearn.model_selection import cross_validate\n",
    "from sklearn.model_selection import ShuffleSplit\n",
    "from sklearn.model_selection import cross_val_score\n",
    "\n",
    "cv = ShuffleSplit(n_splits=5, test_size=0.3, random_state=0)\n",
    "cross_val_score(model1, X, y, cv=cv)"
   ]
  },
  {
   "cell_type": "markdown",
   "id": "b321f4ce",
   "metadata": {},
   "source": [
    "### Salvando o classificador"
   ]
  },
  {
   "cell_type": "code",
   "execution_count": 42,
   "id": "9f088127",
   "metadata": {},
   "outputs": [],
   "source": [
    "import pickle"
   ]
  },
  {
   "cell_type": "code",
   "execution_count": 43,
   "id": "10ce6701",
   "metadata": {},
   "outputs": [],
   "source": [
    "with open('modeloRFC.pkl', 'wb') as f:\n",
    "    pickle.dump([scaler, enc, model1], f)"
   ]
  },
  {
   "cell_type": "code",
   "execution_count": 44,
   "id": "2ebd89b7",
   "metadata": {},
   "outputs": [],
   "source": [
    "with open('modeloRFC.pkl', 'rb') as f:\n",
    "    min_max, encoder, model = pickle.load(f)"
   ]
  },
  {
   "cell_type": "code",
   "execution_count": 64,
   "id": "f362e727",
   "metadata": {},
   "outputs": [
    {
     "data": {
      "text/html": [
       "<div>\n",
       "<style scoped>\n",
       "    .dataframe tbody tr th:only-of-type {\n",
       "        vertical-align: middle;\n",
       "    }\n",
       "\n",
       "    .dataframe tbody tr th {\n",
       "        vertical-align: top;\n",
       "    }\n",
       "\n",
       "    .dataframe thead th {\n",
       "        text-align: right;\n",
       "    }\n",
       "</style>\n",
       "<table border=\"1\" class=\"dataframe\">\n",
       "  <thead>\n",
       "    <tr style=\"text-align: right;\">\n",
       "      <th></th>\n",
       "      <th>sistema_operacional</th>\n",
       "      <th>estado</th>\n",
       "      <th>qtde_lavagem_semana</th>\n",
       "      <th>tipo_cabelo</th>\n",
       "      <th>comprimento</th>\n",
       "      <th>tipo_fios</th>\n",
       "      <th>tempo_procedimento</th>\n",
       "      <th>dieta</th>\n",
       "      <th>atividade_fisica</th>\n",
       "      <th>frequencia_estresse</th>\n",
       "      <th>faixa_etaria</th>\n",
       "      <th>fragancia</th>\n",
       "      <th>dia_semana</th>\n",
       "      <th>num_efeitos_desejados</th>\n",
       "      <th>num_caracteristica</th>\n",
       "      <th>num_procedimentos</th>\n",
       "      <th>target</th>\n",
       "    </tr>\n",
       "  </thead>\n",
       "  <tbody>\n",
       "    <tr>\n",
       "      <th>0</th>\n",
       "      <td>iOS</td>\n",
       "      <td>SAO PAULO</td>\n",
       "      <td>4</td>\n",
       "      <td>Tipo 2</td>\n",
       "      <td>Raíz exposta</td>\n",
       "      <td>Pontas duplas</td>\n",
       "      <td>Há 2 semanas</td>\n",
       "      <td>Celíaca</td>\n",
       "      <td>Frequente</td>\n",
       "      <td>Nunca</td>\n",
       "      <td>25 a 34</td>\n",
       "      <td>Rosas</td>\n",
       "      <td>Monday</td>\n",
       "      <td>1</td>\n",
       "      <td>1</td>\n",
       "      <td>1</td>\n",
       "      <td>1.0</td>\n",
       "    </tr>\n",
       "  </tbody>\n",
       "</table>\n",
       "</div>"
      ],
      "text/plain": [
       "  sistema_operacional      estado  qtde_lavagem_semana tipo_cabelo  \\\n",
       "0                 iOS   SAO PAULO                    4      Tipo 2   \n",
       "\n",
       "    comprimento      tipo_fios tempo_procedimento    dieta atividade_fisica  \\\n",
       "0  Raíz exposta  Pontas duplas       Há 2 semanas  Celíaca        Frequente   \n",
       "\n",
       "  frequencia_estresse faixa_etaria fragancia dia_semana  \\\n",
       "0               Nunca      25 a 34     Rosas     Monday   \n",
       "\n",
       "   num_efeitos_desejados  num_caracteristica  num_procedimentos  target  \n",
       "0                      1                   1                  1     1.0  "
      ]
     },
     "execution_count": 64,
     "metadata": {},
     "output_type": "execute_result"
    }
   ],
   "source": [
    "#teste com o primeiro registro da base de dados\n",
    "X_novo = dados.iloc[0:1]\n",
    "X_novo"
   ]
  },
  {
   "cell_type": "code",
   "execution_count": 65,
   "id": "ec84ed8e",
   "metadata": {},
   "outputs": [],
   "source": [
    "#selecionando somente os atributos categóricos\n",
    "X_cat_novo = X_novo[['estado', 'tipo_cabelo',\n",
    "       'comprimento', 'tipo_fios', 'tempo_procedimento', 'dieta',\n",
    "       'atividade_fisica', 'frequencia_estresse', 'faixa_etaria', 'fragancia']]"
   ]
  },
  {
   "cell_type": "code",
   "execution_count": 66,
   "id": "32f8b0a4",
   "metadata": {},
   "outputs": [],
   "source": [
    "X_cat_novo = encoder.transform(X_cat_novo).toarray()"
   ]
  },
  {
   "cell_type": "code",
   "execution_count": 67,
   "id": "842489aa",
   "metadata": {},
   "outputs": [],
   "source": [
    "X_encoder_novo = pd.DataFrame(X_cat_novo, columns = enc.get_feature_names_out(X_cat.columns))\n"
   ]
  },
  {
   "cell_type": "code",
   "execution_count": 68,
   "id": "d88c01e1",
   "metadata": {},
   "outputs": [],
   "source": [
    "#selecionando os atributos numéricos\n",
    "X_numerical_novo = X_novo[['qtde_lavagem_semana', 'num_efeitos_desejados',\n",
    "       'num_caracteristica','num_procedimentos']]"
   ]
  },
  {
   "cell_type": "code",
   "execution_count": 69,
   "id": "fda171cb",
   "metadata": {},
   "outputs": [],
   "source": [
    "#concatenando os dados categoricos e numericos\n",
    "X_all_novo = pd.concat([X_encoder_novo, X_numerical_novo], axis = 1)\n"
   ]
  },
  {
   "cell_type": "code",
   "execution_count": 70,
   "id": "503ef3e0",
   "metadata": {},
   "outputs": [
    {
     "data": {
      "text/html": [
       "<div>\n",
       "<style scoped>\n",
       "    .dataframe tbody tr th:only-of-type {\n",
       "        vertical-align: middle;\n",
       "    }\n",
       "\n",
       "    .dataframe tbody tr th {\n",
       "        vertical-align: top;\n",
       "    }\n",
       "\n",
       "    .dataframe thead th {\n",
       "        text-align: right;\n",
       "    }\n",
       "</style>\n",
       "<table border=\"1\" class=\"dataframe\">\n",
       "  <thead>\n",
       "    <tr style=\"text-align: right;\">\n",
       "      <th></th>\n",
       "      <th>estado_ ACRE</th>\n",
       "      <th>estado_ ALAGOAS</th>\n",
       "      <th>estado_ AMAPA</th>\n",
       "      <th>estado_ AMAZONAS</th>\n",
       "      <th>estado_ BAHIA</th>\n",
       "      <th>estado_ CEARA</th>\n",
       "      <th>estado_ ESPIRITO SANTO</th>\n",
       "      <th>estado_ FEDERAL DISTRICT</th>\n",
       "      <th>estado_ GOIAS</th>\n",
       "      <th>estado_ MARANHAO</th>\n",
       "      <th>...</th>\n",
       "      <th>faixa_etaria_45 a 54</th>\n",
       "      <th>faixa_etaria_55 a 64</th>\n",
       "      <th>faixa_etaria_65+</th>\n",
       "      <th>fragancia_Eucalipto</th>\n",
       "      <th>fragancia_Flores do campo</th>\n",
       "      <th>fragancia_Rosas</th>\n",
       "      <th>qtde_lavagem_semana</th>\n",
       "      <th>num_efeitos_desejados</th>\n",
       "      <th>num_caracteristica</th>\n",
       "      <th>num_procedimentos</th>\n",
       "    </tr>\n",
       "  </thead>\n",
       "  <tbody>\n",
       "    <tr>\n",
       "      <th>0</th>\n",
       "      <td>0.0</td>\n",
       "      <td>0.0</td>\n",
       "      <td>0.0</td>\n",
       "      <td>0.0</td>\n",
       "      <td>0.0</td>\n",
       "      <td>0.0</td>\n",
       "      <td>0.0</td>\n",
       "      <td>0.0</td>\n",
       "      <td>0.0</td>\n",
       "      <td>0.0</td>\n",
       "      <td>...</td>\n",
       "      <td>0.0</td>\n",
       "      <td>0.0</td>\n",
       "      <td>0.0</td>\n",
       "      <td>0.0</td>\n",
       "      <td>0.0</td>\n",
       "      <td>1.0</td>\n",
       "      <td>4</td>\n",
       "      <td>1</td>\n",
       "      <td>1</td>\n",
       "      <td>1</td>\n",
       "    </tr>\n",
       "  </tbody>\n",
       "</table>\n",
       "<p>1 rows × 72 columns</p>\n",
       "</div>"
      ],
      "text/plain": [
       "   estado_ ACRE  estado_ ALAGOAS  estado_ AMAPA  estado_ AMAZONAS  \\\n",
       "0           0.0              0.0            0.0               0.0   \n",
       "\n",
       "   estado_ BAHIA  estado_ CEARA  estado_ ESPIRITO SANTO  \\\n",
       "0            0.0            0.0                     0.0   \n",
       "\n",
       "   estado_ FEDERAL DISTRICT  estado_ GOIAS  estado_ MARANHAO  ...  \\\n",
       "0                       0.0            0.0               0.0  ...   \n",
       "\n",
       "   faixa_etaria_45 a 54  faixa_etaria_55 a 64  faixa_etaria_65+  \\\n",
       "0                   0.0                   0.0               0.0   \n",
       "\n",
       "   fragancia_Eucalipto  fragancia_Flores do campo  fragancia_Rosas  \\\n",
       "0                  0.0                        0.0              1.0   \n",
       "\n",
       "   qtde_lavagem_semana  num_efeitos_desejados  num_caracteristica  \\\n",
       "0                    4                      1                   1   \n",
       "\n",
       "   num_procedimentos  \n",
       "0                  1  \n",
       "\n",
       "[1 rows x 72 columns]"
      ]
     },
     "execution_count": 70,
     "metadata": {},
     "output_type": "execute_result"
    }
   ],
   "source": [
    "X_all_novo"
   ]
  },
  {
   "cell_type": "code",
   "execution_count": 71,
   "id": "32cea5f2",
   "metadata": {},
   "outputs": [],
   "source": [
    "X_novo = min_max.transform(X_all_novo)\n"
   ]
  },
  {
   "cell_type": "code",
   "execution_count": 72,
   "id": "678f425c",
   "metadata": {},
   "outputs": [
    {
     "data": {
      "text/plain": [
       "array([1.])"
      ]
     },
     "execution_count": 72,
     "metadata": {},
     "output_type": "execute_result"
    }
   ],
   "source": [
    "#Predição da random forest - mostrar a classe\n",
    "model.predict(X_novo)"
   ]
  },
  {
   "cell_type": "code",
   "execution_count": 73,
   "id": "61aa0b4c",
   "metadata": {},
   "outputs": [
    {
     "data": {
      "text/plain": [
       "array([[0.02, 0.98]])"
      ]
     },
     "execution_count": 73,
     "metadata": {},
     "output_type": "execute_result"
    }
   ],
   "source": [
    "#probabilidade\n",
    "model.predict_proba(X_novo)"
   ]
  },
  {
   "cell_type": "code",
   "execution_count": 74,
   "id": "adf0d3a8",
   "metadata": {},
   "outputs": [
    {
     "data": {
      "text/plain": [
       "array([0., 1.])"
      ]
     },
     "execution_count": 74,
     "metadata": {},
     "output_type": "execute_result"
    }
   ],
   "source": [
    "#indice (classe 0 e classe 1)\n",
    "model.classes_"
   ]
  },
  {
   "cell_type": "code",
   "execution_count": null,
   "id": "833a6641",
   "metadata": {},
   "outputs": [],
   "source": []
  }
 ],
 "metadata": {
  "kernelspec": {
   "display_name": "Python 3 (ipykernel)",
   "language": "python",
   "name": "python3"
  },
  "language_info": {
   "codemirror_mode": {
    "name": "ipython",
    "version": 3
   },
   "file_extension": ".py",
   "mimetype": "text/x-python",
   "name": "python",
   "nbconvert_exporter": "python",
   "pygments_lexer": "ipython3",
   "version": "3.9.7"
  }
 },
 "nbformat": 4,
 "nbformat_minor": 5
}
